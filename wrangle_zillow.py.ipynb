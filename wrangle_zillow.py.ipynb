{
 "cells": [
  {
   "cell_type": "code",
   "execution_count": 1,
   "id": "d9ea1c4b",
   "metadata": {},
   "outputs": [],
   "source": [
    "# regular imports\n",
    "\n",
    "import numpy as np\n",
    "import pandas as pd\n",
    "import matplotlib.pyplot as plt\n",
    "import env\n",
    "\n",
    "# default pandas decimal number display format\n",
    "pd.options.display.float_format = '{:20,.2f}'.format\n",
    "\n",
    "import warnings\n",
    "warnings.filterwarnings(\"ignore\")\n",
    "\n",
    "import matplotlib.pyplot as plt\n",
    "from matplotlib import cm\n",
    "import seaborn as sns\n",
    "\n",
    "# Wrangling\n",
    "from sklearn.model_selection import train_test_split\n",
    "\n",
    "import acquire\n",
    "#import summarize\n",
    "import prepare"
   ]
  },
  {
   "cell_type": "code",
   "execution_count": 2,
   "id": "01c20dcb",
   "metadata": {},
   "outputs": [],
   "source": [
    "#URL function\n",
    "def get_db_url(host, username, password, database):\n",
    "    return f'mysql+pymysql://{username}:{password}@{host}/{database}'\n"
   ]
  },
  {
   "cell_type": "code",
   "execution_count": 3,
   "id": "40f31fd5",
   "metadata": {},
   "outputs": [],
   "source": [
    "#Declare the database and url\n",
    "def get_conn():\n",
    "    db = 'zillow'\n",
    "    url = f'mysql+pymysql://{env.user}:{env.password}@{env.host}/{db}'\n",
    "    return url"
   ]
  },
  {
   "cell_type": "code",
   "execution_count": 4,
   "id": "ae0f5635",
   "metadata": {},
   "outputs": [],
   "source": [
    "#Create the SQL query\n",
    "query = '''\n",
    "        SELECT prop.*,\n",
    "        predictions_2017.logerror,\n",
    "        predictions_2017.transactiondate,\n",
    "        air.airconditioningdesc,\n",
    "        arch.architecturalstyledesc,\n",
    "        build.buildingclassdesc,\n",
    "        heat.heatingorsystemdesc,\n",
    "        land.propertylandusedesc,\n",
    "        story.storydesc,\n",
    "        type.typeconstructiondesc\n",
    "        FROM properties_2017 prop\n",
    "        JOIN (\n",
    "            SELECT parcelid, MAX(transactiondate) AS max_transactiondate\n",
    "            FROM predictions_2017\n",
    "            GROUP BY parcelid\n",
    "            ) pred USING(parcelid)\n",
    "        JOIN predictions_2017 ON pred.parcelid = predictions_2017.parcelid\n",
    "                          AND pred.max_transactiondate = predictions_2017.transactiondate\n",
    "        LEFT JOIN airconditioningtype air USING(airconditioningtypeid)\n",
    "        LEFT JOIN architecturalstyletype arch USING(architecturalstyletypeid)\n",
    "        LEFT JOIN buildingclasstype build USING(buildingclasstypeid)\n",
    "        LEFT JOIN heatingorsystemtype heat USING(heatingorsystemtypeid)\n",
    "        LEFT JOIN propertylandusetype land USING(propertylandusetypeid)\n",
    "        LEFT JOIN storytype story USING(storytypeid)\n",
    "        LEFT JOIN typeconstructiontype type USING(typeconstructiontypeid)\n",
    "        WHERE propertylandusedesc = \"Single Family Residential\"\n",
    "            AND transactiondate <= '2017-12-31'\n",
    "            AND prop.longitude IS NOT NULL\n",
    "            AND prop.latitude IS NOT NULL\n",
    "        '''"
   ]
  },
  {
   "cell_type": "code",
   "execution_count": 5,
   "id": "74f89ff2",
   "metadata": {
    "scrolled": false
   },
   "outputs": [],
   "source": [
    "def get_zillow():\n",
    "    df = pd.read_sql(query, get_conn())\n",
    "    df = df.drop(columns='id')\n",
    "    return df"
   ]
  },
  {
   "cell_type": "code",
   "execution_count": 6,
   "id": "fcd93e58",
   "metadata": {},
   "outputs": [],
   "source": [
    "df = get_zillow()"
   ]
  },
  {
   "cell_type": "code",
   "execution_count": 7,
   "id": "1bfd5c4c",
   "metadata": {},
   "outputs": [
    {
     "data": {
      "text/html": [
       "<div>\n",
       "<style scoped>\n",
       "    .dataframe tbody tr th:only-of-type {\n",
       "        vertical-align: middle;\n",
       "    }\n",
       "\n",
       "    .dataframe tbody tr th {\n",
       "        vertical-align: top;\n",
       "    }\n",
       "\n",
       "    .dataframe thead th {\n",
       "        text-align: right;\n",
       "    }\n",
       "</style>\n",
       "<table border=\"1\" class=\"dataframe\">\n",
       "  <thead>\n",
       "    <tr style=\"text-align: right;\">\n",
       "      <th></th>\n",
       "      <th>parcelid</th>\n",
       "      <th>airconditioningtypeid</th>\n",
       "      <th>architecturalstyletypeid</th>\n",
       "      <th>basementsqft</th>\n",
       "      <th>bathroomcnt</th>\n",
       "      <th>bedroomcnt</th>\n",
       "      <th>buildingclasstypeid</th>\n",
       "      <th>buildingqualitytypeid</th>\n",
       "      <th>calculatedbathnbr</th>\n",
       "      <th>decktypeid</th>\n",
       "      <th>...</th>\n",
       "      <th>censustractandblock</th>\n",
       "      <th>logerror</th>\n",
       "      <th>transactiondate</th>\n",
       "      <th>airconditioningdesc</th>\n",
       "      <th>architecturalstyledesc</th>\n",
       "      <th>buildingclassdesc</th>\n",
       "      <th>heatingorsystemdesc</th>\n",
       "      <th>propertylandusedesc</th>\n",
       "      <th>storydesc</th>\n",
       "      <th>typeconstructiondesc</th>\n",
       "    </tr>\n",
       "  </thead>\n",
       "  <tbody>\n",
       "    <tr>\n",
       "      <th>0</th>\n",
       "      <td>14297519</td>\n",
       "      <td>NaN</td>\n",
       "      <td>NaN</td>\n",
       "      <td>NaN</td>\n",
       "      <td>3.50</td>\n",
       "      <td>4.00</td>\n",
       "      <td>None</td>\n",
       "      <td>NaN</td>\n",
       "      <td>3.50</td>\n",
       "      <td>NaN</td>\n",
       "      <td>...</td>\n",
       "      <td>60,590,630,072,012.00</td>\n",
       "      <td>0.03</td>\n",
       "      <td>2017-01-01</td>\n",
       "      <td>None</td>\n",
       "      <td>None</td>\n",
       "      <td>None</td>\n",
       "      <td>None</td>\n",
       "      <td>Single Family Residential</td>\n",
       "      <td>None</td>\n",
       "      <td>None</td>\n",
       "    </tr>\n",
       "    <tr>\n",
       "      <th>1</th>\n",
       "      <td>17052889</td>\n",
       "      <td>NaN</td>\n",
       "      <td>NaN</td>\n",
       "      <td>NaN</td>\n",
       "      <td>1.00</td>\n",
       "      <td>2.00</td>\n",
       "      <td>None</td>\n",
       "      <td>NaN</td>\n",
       "      <td>1.00</td>\n",
       "      <td>NaN</td>\n",
       "      <td>...</td>\n",
       "      <td>61,110,010,023,006.00</td>\n",
       "      <td>0.06</td>\n",
       "      <td>2017-01-01</td>\n",
       "      <td>None</td>\n",
       "      <td>None</td>\n",
       "      <td>None</td>\n",
       "      <td>None</td>\n",
       "      <td>Single Family Residential</td>\n",
       "      <td>None</td>\n",
       "      <td>None</td>\n",
       "    </tr>\n",
       "    <tr>\n",
       "      <th>2</th>\n",
       "      <td>14186244</td>\n",
       "      <td>NaN</td>\n",
       "      <td>NaN</td>\n",
       "      <td>NaN</td>\n",
       "      <td>2.00</td>\n",
       "      <td>3.00</td>\n",
       "      <td>None</td>\n",
       "      <td>NaN</td>\n",
       "      <td>2.00</td>\n",
       "      <td>NaN</td>\n",
       "      <td>...</td>\n",
       "      <td>60,590,218,022,012.00</td>\n",
       "      <td>0.01</td>\n",
       "      <td>2017-01-01</td>\n",
       "      <td>None</td>\n",
       "      <td>None</td>\n",
       "      <td>None</td>\n",
       "      <td>None</td>\n",
       "      <td>Single Family Residential</td>\n",
       "      <td>None</td>\n",
       "      <td>None</td>\n",
       "    </tr>\n",
       "    <tr>\n",
       "      <th>3</th>\n",
       "      <td>12177905</td>\n",
       "      <td>NaN</td>\n",
       "      <td>NaN</td>\n",
       "      <td>NaN</td>\n",
       "      <td>3.00</td>\n",
       "      <td>4.00</td>\n",
       "      <td>None</td>\n",
       "      <td>8.00</td>\n",
       "      <td>3.00</td>\n",
       "      <td>NaN</td>\n",
       "      <td>...</td>\n",
       "      <td>60,373,001,001,006.00</td>\n",
       "      <td>-0.10</td>\n",
       "      <td>2017-01-01</td>\n",
       "      <td>None</td>\n",
       "      <td>None</td>\n",
       "      <td>None</td>\n",
       "      <td>Central</td>\n",
       "      <td>Single Family Residential</td>\n",
       "      <td>None</td>\n",
       "      <td>None</td>\n",
       "    </tr>\n",
       "    <tr>\n",
       "      <th>4</th>\n",
       "      <td>12095076</td>\n",
       "      <td>1.00</td>\n",
       "      <td>NaN</td>\n",
       "      <td>NaN</td>\n",
       "      <td>3.00</td>\n",
       "      <td>4.00</td>\n",
       "      <td>None</td>\n",
       "      <td>9.00</td>\n",
       "      <td>3.00</td>\n",
       "      <td>NaN</td>\n",
       "      <td>...</td>\n",
       "      <td>60,374,608,001,014.00</td>\n",
       "      <td>-0.00</td>\n",
       "      <td>2017-01-01</td>\n",
       "      <td>Central</td>\n",
       "      <td>None</td>\n",
       "      <td>None</td>\n",
       "      <td>Central</td>\n",
       "      <td>Single Family Residential</td>\n",
       "      <td>None</td>\n",
       "      <td>None</td>\n",
       "    </tr>\n",
       "  </tbody>\n",
       "</table>\n",
       "<p>5 rows × 67 columns</p>\n",
       "</div>"
      ],
      "text/plain": [
       "   parcelid  airconditioningtypeid  architecturalstyletypeid  basementsqft  \\\n",
       "0  14297519                    NaN                       NaN           NaN   \n",
       "1  17052889                    NaN                       NaN           NaN   \n",
       "2  14186244                    NaN                       NaN           NaN   \n",
       "3  12177905                    NaN                       NaN           NaN   \n",
       "4  12095076                   1.00                       NaN           NaN   \n",
       "\n",
       "           bathroomcnt           bedroomcnt buildingclasstypeid  \\\n",
       "0                 3.50                 4.00                None   \n",
       "1                 1.00                 2.00                None   \n",
       "2                 2.00                 3.00                None   \n",
       "3                 3.00                 4.00                None   \n",
       "4                 3.00                 4.00                None   \n",
       "\n",
       "   buildingqualitytypeid    calculatedbathnbr  decktypeid  ...  \\\n",
       "0                    NaN                 3.50         NaN  ...   \n",
       "1                    NaN                 1.00         NaN  ...   \n",
       "2                    NaN                 2.00         NaN  ...   \n",
       "3                   8.00                 3.00         NaN  ...   \n",
       "4                   9.00                 3.00         NaN  ...   \n",
       "\n",
       "    censustractandblock             logerror  transactiondate  \\\n",
       "0 60,590,630,072,012.00                 0.03       2017-01-01   \n",
       "1 61,110,010,023,006.00                 0.06       2017-01-01   \n",
       "2 60,590,218,022,012.00                 0.01       2017-01-01   \n",
       "3 60,373,001,001,006.00                -0.10       2017-01-01   \n",
       "4 60,374,608,001,014.00                -0.00       2017-01-01   \n",
       "\n",
       "  airconditioningdesc architecturalstyledesc  buildingclassdesc  \\\n",
       "0                None                   None               None   \n",
       "1                None                   None               None   \n",
       "2                None                   None               None   \n",
       "3                None                   None               None   \n",
       "4             Central                   None               None   \n",
       "\n",
       "   heatingorsystemdesc        propertylandusedesc  storydesc  \\\n",
       "0                 None  Single Family Residential       None   \n",
       "1                 None  Single Family Residential       None   \n",
       "2                 None  Single Family Residential       None   \n",
       "3              Central  Single Family Residential       None   \n",
       "4              Central  Single Family Residential       None   \n",
       "\n",
       "   typeconstructiondesc  \n",
       "0                  None  \n",
       "1                  None  \n",
       "2                  None  \n",
       "3                  None  \n",
       "4                  None  \n",
       "\n",
       "[5 rows x 67 columns]"
      ]
     },
     "execution_count": 7,
     "metadata": {},
     "output_type": "execute_result"
    }
   ],
   "source": [
    "df.head()"
   ]
  },
  {
   "cell_type": "markdown",
   "id": "0c6a913f",
   "metadata": {},
   "source": [
    "### Summary Statistics"
   ]
  },
  {
   "cell_type": "code",
   "execution_count": 8,
   "id": "740b4e08",
   "metadata": {},
   "outputs": [
    {
     "name": "stdout",
     "output_type": "stream",
     "text": [
      "<class 'pandas.core.frame.DataFrame'>\n",
      "RangeIndex: 52319 entries, 0 to 52318\n",
      "Data columns (total 67 columns):\n",
      " #   Column                        Non-Null Count  Dtype  \n",
      "---  ------                        --------------  -----  \n",
      " 0   parcelid                      52319 non-null  int64  \n",
      " 1   airconditioningtypeid         13615 non-null  float64\n",
      " 2   architecturalstyletypeid      70 non-null     float64\n",
      " 3   basementsqft                  47 non-null     float64\n",
      " 4   bathroomcnt                   52319 non-null  float64\n",
      " 5   bedroomcnt                    52319 non-null  float64\n",
      " 6   buildingclasstypeid           0 non-null      object \n",
      " 7   buildingqualitytypeid         33654 non-null  float64\n",
      " 8   calculatedbathnbr             52184 non-null  float64\n",
      " 9   decktypeid                    389 non-null    float64\n",
      " 10  finishedfloor1squarefeet      4371 non-null   float64\n",
      " 11  calculatedfinishedsquarefeet  52238 non-null  float64\n",
      " 12  finishedsquarefeet12          52073 non-null  float64\n",
      " 13  finishedsquarefeet13          0 non-null      object \n",
      " 14  finishedsquarefeet15          0 non-null      object \n",
      " 15  finishedsquarefeet50          4371 non-null   float64\n",
      " 16  finishedsquarefeet6           165 non-null    float64\n",
      " 17  fips                          52319 non-null  float64\n",
      " 18  fireplacecnt                  7233 non-null   float64\n",
      " 19  fullbathcnt                   52184 non-null  float64\n",
      " 20  garagecarcnt                  17984 non-null  float64\n",
      " 21  garagetotalsqft               17984 non-null  float64\n",
      " 22  hashottuborspa                1514 non-null   float64\n",
      " 23  heatingorsystemtypeid         33849 non-null  float64\n",
      " 24  latitude                      52319 non-null  float64\n",
      " 25  longitude                     52319 non-null  float64\n",
      " 26  lotsizesquarefeet             51953 non-null  float64\n",
      " 27  poolcnt                       11077 non-null  float64\n",
      " 28  poolsizesum                   865 non-null    float64\n",
      " 29  pooltypeid10                  443 non-null    float64\n",
      " 30  pooltypeid2                   1071 non-null   float64\n",
      " 31  pooltypeid7                   9990 non-null   float64\n",
      " 32  propertycountylandusecode     52319 non-null  object \n",
      " 33  propertylandusetypeid         52319 non-null  float64\n",
      " 34  propertyzoningdesc            33761 non-null  object \n",
      " 35  rawcensustractandblock        52319 non-null  float64\n",
      " 36  regionidcity                  51283 non-null  float64\n",
      " 37  regionidcounty                52319 non-null  float64\n",
      " 38  regionidneighborhood          18981 non-null  float64\n",
      " 39  regionidzip                   52293 non-null  float64\n",
      " 40  roomcnt                       52319 non-null  float64\n",
      " 41  storytypeid                   47 non-null     float64\n",
      " 42  threequarterbathnbr           6717 non-null   float64\n",
      " 43  typeconstructiontypeid        76 non-null     float64\n",
      " 44  unitcnt                       33761 non-null  float64\n",
      " 45  yardbuildingsqft17            1935 non-null   float64\n",
      " 46  yardbuildingsqft26            63 non-null     float64\n",
      " 47  yearbuilt                     52205 non-null  float64\n",
      " 48  numberofstories               14532 non-null  float64\n",
      " 49  fireplaceflag                 81 non-null     float64\n",
      " 50  structuretaxvaluedollarcnt    52237 non-null  float64\n",
      " 51  taxvaluedollarcnt             52318 non-null  float64\n",
      " 52  assessmentyear                52319 non-null  float64\n",
      " 53  landtaxvaluedollarcnt         52318 non-null  float64\n",
      " 54  taxamount                     52315 non-null  float64\n",
      " 55  taxdelinquencyflag            2068 non-null   object \n",
      " 56  taxdelinquencyyear            2068 non-null   float64\n",
      " 57  censustractandblock           52198 non-null  float64\n",
      " 58  logerror                      52319 non-null  float64\n",
      " 59  transactiondate               52319 non-null  object \n",
      " 60  airconditioningdesc           13615 non-null  object \n",
      " 61  architecturalstyledesc        70 non-null     object \n",
      " 62  buildingclassdesc             0 non-null      object \n",
      " 63  heatingorsystemdesc           33849 non-null  object \n",
      " 64  propertylandusedesc           52319 non-null  object \n",
      " 65  storydesc                     47 non-null     object \n",
      " 66  typeconstructiondesc          76 non-null     object \n",
      "dtypes: float64(52), int64(1), object(14)\n",
      "memory usage: 26.7+ MB\n"
     ]
    }
   ],
   "source": [
    "df.info()\n",
    "#Write some stuff tomorrow"
   ]
  },
  {
   "cell_type": "code",
   "execution_count": 9,
   "id": "98b38b47",
   "metadata": {},
   "outputs": [
    {
     "data": {
      "text/html": [
       "<div>\n",
       "<style scoped>\n",
       "    .dataframe tbody tr th:only-of-type {\n",
       "        vertical-align: middle;\n",
       "    }\n",
       "\n",
       "    .dataframe tbody tr th {\n",
       "        vertical-align: top;\n",
       "    }\n",
       "\n",
       "    .dataframe thead th {\n",
       "        text-align: right;\n",
       "    }\n",
       "</style>\n",
       "<table border=\"1\" class=\"dataframe\">\n",
       "  <thead>\n",
       "    <tr style=\"text-align: right;\">\n",
       "      <th></th>\n",
       "      <th>parcelid</th>\n",
       "      <th>airconditioningtypeid</th>\n",
       "      <th>architecturalstyletypeid</th>\n",
       "      <th>basementsqft</th>\n",
       "      <th>bathroomcnt</th>\n",
       "      <th>bedroomcnt</th>\n",
       "      <th>buildingqualitytypeid</th>\n",
       "      <th>calculatedbathnbr</th>\n",
       "      <th>decktypeid</th>\n",
       "      <th>finishedfloor1squarefeet</th>\n",
       "      <th>...</th>\n",
       "      <th>numberofstories</th>\n",
       "      <th>fireplaceflag</th>\n",
       "      <th>structuretaxvaluedollarcnt</th>\n",
       "      <th>taxvaluedollarcnt</th>\n",
       "      <th>assessmentyear</th>\n",
       "      <th>landtaxvaluedollarcnt</th>\n",
       "      <th>taxamount</th>\n",
       "      <th>taxdelinquencyyear</th>\n",
       "      <th>censustractandblock</th>\n",
       "      <th>logerror</th>\n",
       "    </tr>\n",
       "  </thead>\n",
       "  <tbody>\n",
       "    <tr>\n",
       "      <th>count</th>\n",
       "      <td>52,319.00</td>\n",
       "      <td>13,615.00</td>\n",
       "      <td>70.00</td>\n",
       "      <td>47.00</td>\n",
       "      <td>52,319.00</td>\n",
       "      <td>52,319.00</td>\n",
       "      <td>33,654.00</td>\n",
       "      <td>52,184.00</td>\n",
       "      <td>389.00</td>\n",
       "      <td>4,371.00</td>\n",
       "      <td>...</td>\n",
       "      <td>14,532.00</td>\n",
       "      <td>81.00</td>\n",
       "      <td>52,237.00</td>\n",
       "      <td>52,318.00</td>\n",
       "      <td>52,319.00</td>\n",
       "      <td>52,318.00</td>\n",
       "      <td>52,315.00</td>\n",
       "      <td>2,068.00</td>\n",
       "      <td>52,198.00</td>\n",
       "      <td>52,319.00</td>\n",
       "    </tr>\n",
       "    <tr>\n",
       "      <th>mean</th>\n",
       "      <td>12,996,817.91</td>\n",
       "      <td>2.44</td>\n",
       "      <td>7.10</td>\n",
       "      <td>678.98</td>\n",
       "      <td>2.30</td>\n",
       "      <td>3.30</td>\n",
       "      <td>6.26</td>\n",
       "      <td>2.31</td>\n",
       "      <td>66.00</td>\n",
       "      <td>1,546.29</td>\n",
       "      <td>...</td>\n",
       "      <td>1.41</td>\n",
       "      <td>1.00</td>\n",
       "      <td>196,638.47</td>\n",
       "      <td>529,828.67</td>\n",
       "      <td>2,016.00</td>\n",
       "      <td>333,494.64</td>\n",
       "      <td>6,454.80</td>\n",
       "      <td>14.10</td>\n",
       "      <td>60,502,451,458,870.97</td>\n",
       "      <td>0.02</td>\n",
       "    </tr>\n",
       "    <tr>\n",
       "      <th>std</th>\n",
       "      <td>3,350,951.35</td>\n",
       "      <td>3.85</td>\n",
       "      <td>2.67</td>\n",
       "      <td>711.83</td>\n",
       "      <td>1.02</td>\n",
       "      <td>0.95</td>\n",
       "      <td>1.72</td>\n",
       "      <td>1.02</td>\n",
       "      <td>0.00</td>\n",
       "      <td>675.34</td>\n",
       "      <td>...</td>\n",
       "      <td>0.54</td>\n",
       "      <td>0.00</td>\n",
       "      <td>254,288.05</td>\n",
       "      <td>751,835.82</td>\n",
       "      <td>0.00</td>\n",
       "      <td>570,515.68</td>\n",
       "      <td>8,752.55</td>\n",
       "      <td>2.40</td>\n",
       "      <td>1,861,144,772,484.99</td>\n",
       "      <td>0.18</td>\n",
       "    </tr>\n",
       "    <tr>\n",
       "      <th>min</th>\n",
       "      <td>10,711,855.00</td>\n",
       "      <td>1.00</td>\n",
       "      <td>2.00</td>\n",
       "      <td>38.00</td>\n",
       "      <td>0.00</td>\n",
       "      <td>0.00</td>\n",
       "      <td>1.00</td>\n",
       "      <td>1.00</td>\n",
       "      <td>66.00</td>\n",
       "      <td>184.00</td>\n",
       "      <td>...</td>\n",
       "      <td>1.00</td>\n",
       "      <td>1.00</td>\n",
       "      <td>129.00</td>\n",
       "      <td>1,000.00</td>\n",
       "      <td>2,016.00</td>\n",
       "      <td>161.00</td>\n",
       "      <td>49.18</td>\n",
       "      <td>4.00</td>\n",
       "      <td>60,371,011,101,000.00</td>\n",
       "      <td>-4.66</td>\n",
       "    </tr>\n",
       "    <tr>\n",
       "      <th>25%</th>\n",
       "      <td>11,510,167.50</td>\n",
       "      <td>1.00</td>\n",
       "      <td>7.00</td>\n",
       "      <td>263.50</td>\n",
       "      <td>2.00</td>\n",
       "      <td>3.00</td>\n",
       "      <td>5.00</td>\n",
       "      <td>2.00</td>\n",
       "      <td>66.00</td>\n",
       "      <td>1,151.00</td>\n",
       "      <td>...</td>\n",
       "      <td>1.00</td>\n",
       "      <td>1.00</td>\n",
       "      <td>77,159.00</td>\n",
       "      <td>194,020.50</td>\n",
       "      <td>2,016.00</td>\n",
       "      <td>76,194.00</td>\n",
       "      <td>2,660.97</td>\n",
       "      <td>14.00</td>\n",
       "      <td>60,374,012,032,009.00</td>\n",
       "      <td>-0.02</td>\n",
       "    </tr>\n",
       "    <tr>\n",
       "      <th>50%</th>\n",
       "      <td>12,578,254.00</td>\n",
       "      <td>1.00</td>\n",
       "      <td>7.00</td>\n",
       "      <td>512.00</td>\n",
       "      <td>2.00</td>\n",
       "      <td>3.00</td>\n",
       "      <td>6.00</td>\n",
       "      <td>2.00</td>\n",
       "      <td>66.00</td>\n",
       "      <td>1,410.00</td>\n",
       "      <td>...</td>\n",
       "      <td>1.00</td>\n",
       "      <td>1.00</td>\n",
       "      <td>131,910.00</td>\n",
       "      <td>374,008.00</td>\n",
       "      <td>2,016.00</td>\n",
       "      <td>218,079.00</td>\n",
       "      <td>4,650.62</td>\n",
       "      <td>15.00</td>\n",
       "      <td>60,376,203,012,018.00</td>\n",
       "      <td>0.01</td>\n",
       "    </tr>\n",
       "    <tr>\n",
       "      <th>75%</th>\n",
       "      <td>14,130,361.00</td>\n",
       "      <td>1.00</td>\n",
       "      <td>7.00</td>\n",
       "      <td>809.50</td>\n",
       "      <td>3.00</td>\n",
       "      <td>4.00</td>\n",
       "      <td>8.00</td>\n",
       "      <td>3.00</td>\n",
       "      <td>66.00</td>\n",
       "      <td>1,760.00</td>\n",
       "      <td>...</td>\n",
       "      <td>2.00</td>\n",
       "      <td>1.00</td>\n",
       "      <td>226,455.00</td>\n",
       "      <td>619,358.00</td>\n",
       "      <td>2,016.00</td>\n",
       "      <td>408,779.50</td>\n",
       "      <td>7,379.32</td>\n",
       "      <td>15.00</td>\n",
       "      <td>60,590,423,261,001.00</td>\n",
       "      <td>0.04</td>\n",
       "    </tr>\n",
       "    <tr>\n",
       "      <th>max</th>\n",
       "      <td>167,687,839.00</td>\n",
       "      <td>13.00</td>\n",
       "      <td>21.00</td>\n",
       "      <td>3,560.00</td>\n",
       "      <td>18.00</td>\n",
       "      <td>14.00</td>\n",
       "      <td>12.00</td>\n",
       "      <td>18.00</td>\n",
       "      <td>66.00</td>\n",
       "      <td>6,912.00</td>\n",
       "      <td>...</td>\n",
       "      <td>6.00</td>\n",
       "      <td>1.00</td>\n",
       "      <td>9,164,901.00</td>\n",
       "      <td>49,061,236.00</td>\n",
       "      <td>2,016.00</td>\n",
       "      <td>48,952,198.00</td>\n",
       "      <td>586,639.30</td>\n",
       "      <td>99.00</td>\n",
       "      <td>483,030,105,084,015.00</td>\n",
       "      <td>5.26</td>\n",
       "    </tr>\n",
       "  </tbody>\n",
       "</table>\n",
       "<p>8 rows × 53 columns</p>\n",
       "</div>"
      ],
      "text/plain": [
       "                  parcelid  airconditioningtypeid  architecturalstyletypeid  \\\n",
       "count            52,319.00              13,615.00                     70.00   \n",
       "mean         12,996,817.91                   2.44                      7.10   \n",
       "std           3,350,951.35                   3.85                      2.67   \n",
       "min          10,711,855.00                   1.00                      2.00   \n",
       "25%          11,510,167.50                   1.00                      7.00   \n",
       "50%          12,578,254.00                   1.00                      7.00   \n",
       "75%          14,130,361.00                   1.00                      7.00   \n",
       "max         167,687,839.00                  13.00                     21.00   \n",
       "\n",
       "              basementsqft          bathroomcnt           bedroomcnt  \\\n",
       "count                47.00            52,319.00            52,319.00   \n",
       "mean                678.98                 2.30                 3.30   \n",
       "std                 711.83                 1.02                 0.95   \n",
       "min                  38.00                 0.00                 0.00   \n",
       "25%                 263.50                 2.00                 3.00   \n",
       "50%                 512.00                 2.00                 3.00   \n",
       "75%                 809.50                 3.00                 4.00   \n",
       "max               3,560.00                18.00                14.00   \n",
       "\n",
       "       buildingqualitytypeid    calculatedbathnbr           decktypeid  \\\n",
       "count              33,654.00            52,184.00               389.00   \n",
       "mean                    6.26                 2.31                66.00   \n",
       "std                     1.72                 1.02                 0.00   \n",
       "min                     1.00                 1.00                66.00   \n",
       "25%                     5.00                 2.00                66.00   \n",
       "50%                     6.00                 2.00                66.00   \n",
       "75%                     8.00                 3.00                66.00   \n",
       "max                    12.00                18.00                66.00   \n",
       "\n",
       "       finishedfloor1squarefeet  ...      numberofstories  \\\n",
       "count                  4,371.00  ...            14,532.00   \n",
       "mean                   1,546.29  ...                 1.41   \n",
       "std                      675.34  ...                 0.54   \n",
       "min                      184.00  ...                 1.00   \n",
       "25%                    1,151.00  ...                 1.00   \n",
       "50%                    1,410.00  ...                 1.00   \n",
       "75%                    1,760.00  ...                 2.00   \n",
       "max                    6,912.00  ...                 6.00   \n",
       "\n",
       "             fireplaceflag  structuretaxvaluedollarcnt    taxvaluedollarcnt  \\\n",
       "count                81.00                   52,237.00            52,318.00   \n",
       "mean                  1.00                  196,638.47           529,828.67   \n",
       "std                   0.00                  254,288.05           751,835.82   \n",
       "min                   1.00                      129.00             1,000.00   \n",
       "25%                   1.00                   77,159.00           194,020.50   \n",
       "50%                   1.00                  131,910.00           374,008.00   \n",
       "75%                   1.00                  226,455.00           619,358.00   \n",
       "max                   1.00                9,164,901.00        49,061,236.00   \n",
       "\n",
       "            assessmentyear  landtaxvaluedollarcnt            taxamount  \\\n",
       "count            52,319.00              52,318.00            52,315.00   \n",
       "mean              2,016.00             333,494.64             6,454.80   \n",
       "std                   0.00             570,515.68             8,752.55   \n",
       "min               2,016.00                 161.00                49.18   \n",
       "25%               2,016.00              76,194.00             2,660.97   \n",
       "50%               2,016.00             218,079.00             4,650.62   \n",
       "75%               2,016.00             408,779.50             7,379.32   \n",
       "max               2,016.00          48,952,198.00           586,639.30   \n",
       "\n",
       "        taxdelinquencyyear    censustractandblock             logerror  \n",
       "count             2,068.00              52,198.00            52,319.00  \n",
       "mean                 14.10  60,502,451,458,870.97                 0.02  \n",
       "std                   2.40   1,861,144,772,484.99                 0.18  \n",
       "min                   4.00  60,371,011,101,000.00                -4.66  \n",
       "25%                  14.00  60,374,012,032,009.00                -0.02  \n",
       "50%                  15.00  60,376,203,012,018.00                 0.01  \n",
       "75%                  15.00  60,590,423,261,001.00                 0.04  \n",
       "max                  99.00 483,030,105,084,015.00                 5.26  \n",
       "\n",
       "[8 rows x 53 columns]"
      ]
     },
     "execution_count": 9,
     "metadata": {},
     "output_type": "execute_result"
    }
   ],
   "source": [
    "df.describe()\n",
    "\n",
    "#Go to bed early, get some rest, and catch up on work tomorrow early."
   ]
  },
  {
   "cell_type": "code",
   "execution_count": 10,
   "id": "80906c0c",
   "metadata": {},
   "outputs": [
    {
     "data": {
      "text/plain": [
       "(52319, 67)"
      ]
     },
     "execution_count": 10,
     "metadata": {},
     "output_type": "execute_result"
    }
   ],
   "source": [
    "df.shape"
   ]
  },
  {
   "cell_type": "code",
   "execution_count": 11,
   "id": "2c1bb190",
   "metadata": {},
   "outputs": [
    {
     "data": {
      "text/plain": [
       "parcelid                      False\n",
       "structuretaxvaluedollarcnt    False\n",
       "regionidcity                  False\n",
       "regionidcounty                False\n",
       "regionidneighborhood          False\n",
       "                              ...  \n",
       "poolsizesum                   False\n",
       "pooltypeid10                  False\n",
       "pooltypeid2                   False\n",
       "pooltypeid7                   False\n",
       "typeconstructiondesc          False\n",
       "Length: 67, dtype: bool"
      ]
     },
     "execution_count": 11,
     "metadata": {},
     "output_type": "execute_result"
    }
   ],
   "source": [
    "df.columns.value_counts().isna()"
   ]
  },
  {
   "cell_type": "code",
   "execution_count": 12,
   "id": "6446ba1b",
   "metadata": {},
   "outputs": [],
   "source": [
    "def missing_rows_count_percentage(df):\n",
    "\n",
    "    # This function returns number of rows missing and their percentage\n",
    "\n",
    "    data = pd.DataFrame({\n",
    "        'row_count': df.isna().sum(),\n",
    "        'row_percent': df.isna().mean(),\n",
    "    })\n",
    "\n",
    "    return data"
   ]
  },
  {
   "cell_type": "code",
   "execution_count": 13,
   "id": "bc0c3cdb",
   "metadata": {},
   "outputs": [
    {
     "data": {
      "text/html": [
       "<div>\n",
       "<style scoped>\n",
       "    .dataframe tbody tr th:only-of-type {\n",
       "        vertical-align: middle;\n",
       "    }\n",
       "\n",
       "    .dataframe tbody tr th {\n",
       "        vertical-align: top;\n",
       "    }\n",
       "\n",
       "    .dataframe thead th {\n",
       "        text-align: right;\n",
       "    }\n",
       "</style>\n",
       "<table border=\"1\" class=\"dataframe\">\n",
       "  <thead>\n",
       "    <tr style=\"text-align: right;\">\n",
       "      <th></th>\n",
       "      <th>row_count</th>\n",
       "      <th>row_percent</th>\n",
       "    </tr>\n",
       "  </thead>\n",
       "  <tbody>\n",
       "    <tr>\n",
       "      <th>parcelid</th>\n",
       "      <td>0</td>\n",
       "      <td>0.00</td>\n",
       "    </tr>\n",
       "    <tr>\n",
       "      <th>airconditioningtypeid</th>\n",
       "      <td>38704</td>\n",
       "      <td>0.74</td>\n",
       "    </tr>\n",
       "    <tr>\n",
       "      <th>architecturalstyletypeid</th>\n",
       "      <td>52249</td>\n",
       "      <td>1.00</td>\n",
       "    </tr>\n",
       "    <tr>\n",
       "      <th>basementsqft</th>\n",
       "      <td>52272</td>\n",
       "      <td>1.00</td>\n",
       "    </tr>\n",
       "    <tr>\n",
       "      <th>bathroomcnt</th>\n",
       "      <td>0</td>\n",
       "      <td>0.00</td>\n",
       "    </tr>\n",
       "  </tbody>\n",
       "</table>\n",
       "</div>"
      ],
      "text/plain": [
       "                          row_count          row_percent\n",
       "parcelid                          0                 0.00\n",
       "airconditioningtypeid         38704                 0.74\n",
       "architecturalstyletypeid      52249                 1.00\n",
       "basementsqft                  52272                 1.00\n",
       "bathroomcnt                       0                 0.00"
      ]
     },
     "execution_count": 13,
     "metadata": {},
     "output_type": "execute_result"
    }
   ],
   "source": [
    "missing_rows_count_percentage(df).head()"
   ]
  },
  {
   "cell_type": "code",
   "execution_count": 14,
   "id": "80930a41",
   "metadata": {},
   "outputs": [
    {
     "data": {
      "text/plain": [
       "(-1.0, 1.0)"
      ]
     },
     "execution_count": 14,
     "metadata": {},
     "output_type": "execute_result"
    },
    {
     "data": {
      "image/png": "[encoded data removed]",
      "text/plain": [
       "<Figure size 432x288 with 1 Axes>"
      ]
     },
     "metadata": {
      "needs_background": "light"
     },
     "output_type": "display_data"
    }
   ],
   "source": [
    "#Distribution of target variable\n",
    "plt.hist(x=df['logerror'], bins=20)\n",
    "plt.xlim(-1, 1)"
   ]
  },
  {
   "cell_type": "code",
   "execution_count": 15,
   "id": "047d13f8",
   "metadata": {},
   "outputs": [
    {
     "data": {
      "text/plain": [
       "1.00    11077\n",
       "Name: poolcnt, dtype: int64"
      ]
     },
     "execution_count": 15,
     "metadata": {},
     "output_type": "execute_result"
    }
   ],
   "source": [
    "#Value counts of the poolcnt column\n",
    "df['poolcnt'].value_counts()"
   ]
  },
  {
   "cell_type": "code",
   "execution_count": null,
   "id": "7b6e4852",
   "metadata": {},
   "outputs": [],
   "source": []
  },
  {
   "cell_type": "markdown",
   "id": "5937d8cf",
   "metadata": {},
   "source": []
  },
  {
   "cell_type": "code",
   "execution_count": 16,
   "id": "be5b7087",
   "metadata": {},
   "outputs": [],
   "source": [
    "#Define function to calculate number and percent of values missing from each column\n",
    "def null_counter(df):\n",
    "    \n",
    "    new_columns = ['name', 'num_rows_missing', 'pct_rows_missing']\n",
    "    \n",
    "    new_df = pd.DataFrame(columns=new_columns)\n",
    "    \n",
    "    for col in list(df.columns):\n",
    "        num_missing = df[col].isna().sum()\n",
    "        pct_missing = num_missing / df.shape[0]\n",
    "        \n",
    "        add_df = pd.DataFrame([{'name': col, 'num_rows_missing': num_missing,\n",
    "                               'pct_rows_missing': pct_missing}])\n",
    "        \n",
    "        new_df = pd.concat([new_df, add_df], axis=0)\n",
    "        \n",
    "    new_df.set_index('name', inplace=True)\n",
    "    \n",
    "    return new_df"
   ]
  },
  {
   "cell_type": "code",
   "execution_count": 17,
   "id": "b24e5ecd",
   "metadata": {},
   "outputs": [
    {
     "data": {
      "text/html": [
       "<div>\n",
       "<style scoped>\n",
       "    .dataframe tbody tr th:only-of-type {\n",
       "        vertical-align: middle;\n",
       "    }\n",
       "\n",
       "    .dataframe tbody tr th {\n",
       "        vertical-align: top;\n",
       "    }\n",
       "\n",
       "    .dataframe thead th {\n",
       "        text-align: right;\n",
       "    }\n",
       "</style>\n",
       "<table border=\"1\" class=\"dataframe\">\n",
       "  <thead>\n",
       "    <tr style=\"text-align: right;\">\n",
       "      <th></th>\n",
       "      <th>num_rows_missing</th>\n",
       "      <th>pct_rows_missing</th>\n",
       "    </tr>\n",
       "    <tr>\n",
       "      <th>name</th>\n",
       "      <th></th>\n",
       "      <th></th>\n",
       "    </tr>\n",
       "  </thead>\n",
       "  <tbody>\n",
       "    <tr>\n",
       "      <th>parcelid</th>\n",
       "      <td>0</td>\n",
       "      <td>0.00</td>\n",
       "    </tr>\n",
       "    <tr>\n",
       "      <th>airconditioningtypeid</th>\n",
       "      <td>38704</td>\n",
       "      <td>0.74</td>\n",
       "    </tr>\n",
       "    <tr>\n",
       "      <th>architecturalstyletypeid</th>\n",
       "      <td>52249</td>\n",
       "      <td>1.00</td>\n",
       "    </tr>\n",
       "    <tr>\n",
       "      <th>basementsqft</th>\n",
       "      <td>52272</td>\n",
       "      <td>1.00</td>\n",
       "    </tr>\n",
       "    <tr>\n",
       "      <th>bathroomcnt</th>\n",
       "      <td>0</td>\n",
       "      <td>0.00</td>\n",
       "    </tr>\n",
       "  </tbody>\n",
       "</table>\n",
       "</div>"
      ],
      "text/plain": [
       "                         num_rows_missing     pct_rows_missing\n",
       "name                                                          \n",
       "parcelid                                0                 0.00\n",
       "airconditioningtypeid               38704                 0.74\n",
       "architecturalstyletypeid            52249                 1.00\n",
       "basementsqft                        52272                 1.00\n",
       "bathroomcnt                             0                 0.00"
      ]
     },
     "execution_count": 17,
     "metadata": {},
     "output_type": "execute_result"
    }
   ],
   "source": [
    "#Execute my function and verify the results\n",
    "null_df = null_counter(df)\n",
    "\n",
    "null_df.head()"
   ]
  },
  {
   "cell_type": "code",
   "execution_count": 18,
   "id": "8c4f72a6",
   "metadata": {},
   "outputs": [
    {
     "data": {
      "text/plain": [
       "(67, 2)"
      ]
     },
     "execution_count": 18,
     "metadata": {},
     "output_type": "execute_result"
    }
   ],
   "source": [
    "#Check the shape to make sure I capture all columns\n",
    "null_df.shape"
   ]
  },
  {
   "cell_type": "markdown",
   "id": "461c63c2",
   "metadata": {},
   "source": [
    "### Prepare\n",
    "#### Question 1\n",
    "\n",
    "Remove any properties that are likely to be something other than single unit properties. (e.g. no duplexes, no land/lot, ...). There are multiple ways to estimate that a property is a single unit, and there is not a single \"right\" answer.\n"
   ]
  },
  {
   "cell_type": "code",
   "execution_count": 19,
   "id": "38a6ed09",
   "metadata": {},
   "outputs": [
    {
     "data": {
      "text/html": [
       "<div>\n",
       "<style scoped>\n",
       "    .dataframe tbody tr th:only-of-type {\n",
       "        vertical-align: middle;\n",
       "    }\n",
       "\n",
       "    .dataframe tbody tr th {\n",
       "        vertical-align: top;\n",
       "    }\n",
       "\n",
       "    .dataframe thead th {\n",
       "        text-align: right;\n",
       "    }\n",
       "</style>\n",
       "<table border=\"1\" class=\"dataframe\">\n",
       "  <thead>\n",
       "    <tr style=\"text-align: right;\">\n",
       "      <th></th>\n",
       "      <th>parcelid</th>\n",
       "      <th>airconditioningtypeid</th>\n",
       "      <th>architecturalstyletypeid</th>\n",
       "      <th>basementsqft</th>\n",
       "      <th>bathroomcnt</th>\n",
       "      <th>bedroomcnt</th>\n",
       "      <th>buildingclasstypeid</th>\n",
       "      <th>buildingqualitytypeid</th>\n",
       "      <th>calculatedbathnbr</th>\n",
       "      <th>decktypeid</th>\n",
       "      <th>...</th>\n",
       "      <th>censustractandblock</th>\n",
       "      <th>logerror</th>\n",
       "      <th>transactiondate</th>\n",
       "      <th>airconditioningdesc</th>\n",
       "      <th>architecturalstyledesc</th>\n",
       "      <th>buildingclassdesc</th>\n",
       "      <th>heatingorsystemdesc</th>\n",
       "      <th>propertylandusedesc</th>\n",
       "      <th>storydesc</th>\n",
       "      <th>typeconstructiondesc</th>\n",
       "    </tr>\n",
       "  </thead>\n",
       "  <tbody>\n",
       "  </tbody>\n",
       "</table>\n",
       "<p>0 rows × 67 columns</p>\n",
       "</div>"
      ],
      "text/plain": [
       "Empty DataFrame\n",
       "Columns: [parcelid, airconditioningtypeid, architecturalstyletypeid, basementsqft, bathroomcnt, bedroomcnt, buildingclasstypeid, buildingqualitytypeid, calculatedbathnbr, decktypeid, finishedfloor1squarefeet, calculatedfinishedsquarefeet, finishedsquarefeet12, finishedsquarefeet13, finishedsquarefeet15, finishedsquarefeet50, finishedsquarefeet6, fips, fireplacecnt, fullbathcnt, garagecarcnt, garagetotalsqft, hashottuborspa, heatingorsystemtypeid, latitude, longitude, lotsizesquarefeet, poolcnt, poolsizesum, pooltypeid10, pooltypeid2, pooltypeid7, propertycountylandusecode, propertylandusetypeid, propertyzoningdesc, rawcensustractandblock, regionidcity, regionidcounty, regionidneighborhood, regionidzip, roomcnt, storytypeid, threequarterbathnbr, typeconstructiontypeid, unitcnt, yardbuildingsqft17, yardbuildingsqft26, yearbuilt, numberofstories, fireplaceflag, structuretaxvaluedollarcnt, taxvaluedollarcnt, assessmentyear, landtaxvaluedollarcnt, taxamount, taxdelinquencyflag, taxdelinquencyyear, censustractandblock, logerror, transactiondate, airconditioningdesc, architecturalstyledesc, buildingclassdesc, heatingorsystemdesc, propertylandusedesc, storydesc, typeconstructiondesc]\n",
       "Index: []\n",
       "\n",
       "[0 rows x 67 columns]"
      ]
     },
     "execution_count": 19,
     "metadata": {},
     "output_type": "execute_result"
    }
   ],
   "source": [
    "#Maybe there are some houses with no square footage?\n",
    "df[df['calculatedfinishedsquarefeet'] == 0]\n"
   ]
  },
  {
   "cell_type": "code",
   "execution_count": 20,
   "id": "f3b80223",
   "metadata": {},
   "outputs": [
    {
     "data": {
      "text/html": [
       "<div>\n",
       "<style scoped>\n",
       "    .dataframe tbody tr th:only-of-type {\n",
       "        vertical-align: middle;\n",
       "    }\n",
       "\n",
       "    .dataframe tbody tr th {\n",
       "        vertical-align: top;\n",
       "    }\n",
       "\n",
       "    .dataframe thead th {\n",
       "        text-align: right;\n",
       "    }\n",
       "</style>\n",
       "<table border=\"1\" class=\"dataframe\">\n",
       "  <thead>\n",
       "    <tr style=\"text-align: right;\">\n",
       "      <th></th>\n",
       "      <th>parcelid</th>\n",
       "      <th>airconditioningtypeid</th>\n",
       "      <th>architecturalstyletypeid</th>\n",
       "      <th>basementsqft</th>\n",
       "      <th>bathroomcnt</th>\n",
       "      <th>bedroomcnt</th>\n",
       "      <th>buildingclasstypeid</th>\n",
       "      <th>buildingqualitytypeid</th>\n",
       "      <th>calculatedbathnbr</th>\n",
       "      <th>decktypeid</th>\n",
       "      <th>...</th>\n",
       "      <th>censustractandblock</th>\n",
       "      <th>logerror</th>\n",
       "      <th>transactiondate</th>\n",
       "      <th>airconditioningdesc</th>\n",
       "      <th>architecturalstyledesc</th>\n",
       "      <th>buildingclassdesc</th>\n",
       "      <th>heatingorsystemdesc</th>\n",
       "      <th>propertylandusedesc</th>\n",
       "      <th>storydesc</th>\n",
       "      <th>typeconstructiondesc</th>\n",
       "    </tr>\n",
       "  </thead>\n",
       "  <tbody>\n",
       "  </tbody>\n",
       "</table>\n",
       "<p>0 rows × 67 columns</p>\n",
       "</div>"
      ],
      "text/plain": [
       "Empty DataFrame\n",
       "Columns: [parcelid, airconditioningtypeid, architecturalstyletypeid, basementsqft, bathroomcnt, bedroomcnt, buildingclasstypeid, buildingqualitytypeid, calculatedbathnbr, decktypeid, finishedfloor1squarefeet, calculatedfinishedsquarefeet, finishedsquarefeet12, finishedsquarefeet13, finishedsquarefeet15, finishedsquarefeet50, finishedsquarefeet6, fips, fireplacecnt, fullbathcnt, garagecarcnt, garagetotalsqft, hashottuborspa, heatingorsystemtypeid, latitude, longitude, lotsizesquarefeet, poolcnt, poolsizesum, pooltypeid10, pooltypeid2, pooltypeid7, propertycountylandusecode, propertylandusetypeid, propertyzoningdesc, rawcensustractandblock, regionidcity, regionidcounty, regionidneighborhood, regionidzip, roomcnt, storytypeid, threequarterbathnbr, typeconstructiontypeid, unitcnt, yardbuildingsqft17, yardbuildingsqft26, yearbuilt, numberofstories, fireplaceflag, structuretaxvaluedollarcnt, taxvaluedollarcnt, assessmentyear, landtaxvaluedollarcnt, taxamount, taxdelinquencyflag, taxdelinquencyyear, censustractandblock, logerror, transactiondate, airconditioningdesc, architecturalstyledesc, buildingclassdesc, heatingorsystemdesc, propertylandusedesc, storydesc, typeconstructiondesc]\n",
       "Index: []\n",
       "\n",
       "[0 rows x 67 columns]"
      ]
     },
     "execution_count": 20,
     "metadata": {},
     "output_type": "execute_result"
    }
   ],
   "source": [
    "#What about nonexistent lots?\n",
    "df[df['lotsizesquarefeet'] == 0]"
   ]
  },
  {
   "cell_type": "markdown",
   "id": "3100c55e",
   "metadata": {},
   "source": [
    "### 2. Create a function that will drop rows or columns based on the percent of values that are missing: handle_missing_values(df, prop_required_column, prop_required_row).\n",
    "\n",
    "The input:\n",
    "- A dataframe\n",
    "- A number between 0 and 1 that represents the proportion, for each column, of rows with non-missing values required to keep the column. i.e. if prop_required_column = .6, then you are requiring a column to have at least 60% of values not-NA (no more than 40% missing).\n",
    "- A number between 0 and 1 that represents the proportion, for each row, of columns/variables with non-missing values required to keep the row. For example, if prop_required_row = .75, then you are requiring a row to have at least 75% of variables with a non-missing value (no more that 25% missing).\n",
    "The output:\n",
    "- The dataframe with the columns and rows dropped as indicated. Be sure to drop the columns prior to the rows in your function.\n",
    "- hint:\n",
    "- Look up the dropna documentation.\n",
    "- You will want to compute a threshold from your input values (prop_required) and total number of rows or columns."
   ]
  },
  {
   "cell_type": "code",
   "execution_count": 21,
   "id": "7bc5d3a5",
   "metadata": {},
   "outputs": [],
   "source": [
    "\n",
    "#Define function to drop columns/rows based on proportion of nulls\n",
    "def null_dropper(df, prop_required_column, prop_required_row):\n",
    "    \n",
    "    prop_null_column = 1 - prop_required_column\n",
    "    \n",
    "    for col in list(df.columns):\n",
    "        \n",
    "        null_sum = df[col].isna().sum()\n",
    "        null_pct = null_sum / df.shape[0]\n",
    "        \n",
    "        if null_pct > prop_null_column:\n",
    "            df.drop(columns=col, inplace=True)\n",
    "            \n",
    "    row_threshold = int(prop_required_row * df.shape[1])\n",
    "    \n",
    "    df.dropna(axis=0, thresh=row_threshold, inplace=True)\n",
    "    \n",
    "    return df"
   ]
  },
  {
   "cell_type": "code",
   "execution_count": 22,
   "id": "54db35d9",
   "metadata": {},
   "outputs": [
    {
     "data": {
      "text/html": [
       "<div>\n",
       "<style scoped>\n",
       "    .dataframe tbody tr th:only-of-type {\n",
       "        vertical-align: middle;\n",
       "    }\n",
       "\n",
       "    .dataframe tbody tr th {\n",
       "        vertical-align: top;\n",
       "    }\n",
       "\n",
       "    .dataframe thead th {\n",
       "        text-align: right;\n",
       "    }\n",
       "</style>\n",
       "<table border=\"1\" class=\"dataframe\">\n",
       "  <thead>\n",
       "    <tr style=\"text-align: right;\">\n",
       "      <th></th>\n",
       "      <th>parcelid</th>\n",
       "      <th>bathroomcnt</th>\n",
       "      <th>bedroomcnt</th>\n",
       "      <th>calculatedbathnbr</th>\n",
       "      <th>calculatedfinishedsquarefeet</th>\n",
       "      <th>finishedsquarefeet12</th>\n",
       "      <th>fips</th>\n",
       "      <th>fullbathcnt</th>\n",
       "      <th>latitude</th>\n",
       "      <th>longitude</th>\n",
       "      <th>...</th>\n",
       "      <th>yearbuilt</th>\n",
       "      <th>structuretaxvaluedollarcnt</th>\n",
       "      <th>taxvaluedollarcnt</th>\n",
       "      <th>assessmentyear</th>\n",
       "      <th>landtaxvaluedollarcnt</th>\n",
       "      <th>taxamount</th>\n",
       "      <th>censustractandblock</th>\n",
       "      <th>logerror</th>\n",
       "      <th>transactiondate</th>\n",
       "      <th>propertylandusedesc</th>\n",
       "    </tr>\n",
       "  </thead>\n",
       "  <tbody>\n",
       "    <tr>\n",
       "      <th>0</th>\n",
       "      <td>14297519</td>\n",
       "      <td>3.50</td>\n",
       "      <td>4.00</td>\n",
       "      <td>3.50</td>\n",
       "      <td>3,100.00</td>\n",
       "      <td>3,100.00</td>\n",
       "      <td>6,059.00</td>\n",
       "      <td>3.00</td>\n",
       "      <td>33,634,931.00</td>\n",
       "      <td>-117,869,207.00</td>\n",
       "      <td>...</td>\n",
       "      <td>1,998.00</td>\n",
       "      <td>485,713.00</td>\n",
       "      <td>1,023,282.00</td>\n",
       "      <td>2,016.00</td>\n",
       "      <td>537,569.00</td>\n",
       "      <td>11,013.72</td>\n",
       "      <td>60,590,630,072,012.00</td>\n",
       "      <td>0.03</td>\n",
       "      <td>2017-01-01</td>\n",
       "      <td>Single Family Residential</td>\n",
       "    </tr>\n",
       "    <tr>\n",
       "      <th>1</th>\n",
       "      <td>17052889</td>\n",
       "      <td>1.00</td>\n",
       "      <td>2.00</td>\n",
       "      <td>1.00</td>\n",
       "      <td>1,465.00</td>\n",
       "      <td>1,465.00</td>\n",
       "      <td>6,111.00</td>\n",
       "      <td>1.00</td>\n",
       "      <td>34,449,266.00</td>\n",
       "      <td>-119,281,531.00</td>\n",
       "      <td>...</td>\n",
       "      <td>1,967.00</td>\n",
       "      <td>88,000.00</td>\n",
       "      <td>464,000.00</td>\n",
       "      <td>2,016.00</td>\n",
       "      <td>376,000.00</td>\n",
       "      <td>5,672.48</td>\n",
       "      <td>61,110,010,023,006.00</td>\n",
       "      <td>0.06</td>\n",
       "      <td>2017-01-01</td>\n",
       "      <td>Single Family Residential</td>\n",
       "    </tr>\n",
       "    <tr>\n",
       "      <th>2</th>\n",
       "      <td>14186244</td>\n",
       "      <td>2.00</td>\n",
       "      <td>3.00</td>\n",
       "      <td>2.00</td>\n",
       "      <td>1,243.00</td>\n",
       "      <td>1,243.00</td>\n",
       "      <td>6,059.00</td>\n",
       "      <td>2.00</td>\n",
       "      <td>33,886,168.00</td>\n",
       "      <td>-117,823,170.00</td>\n",
       "      <td>...</td>\n",
       "      <td>1,962.00</td>\n",
       "      <td>85,289.00</td>\n",
       "      <td>564,778.00</td>\n",
       "      <td>2,016.00</td>\n",
       "      <td>479,489.00</td>\n",
       "      <td>6,488.30</td>\n",
       "      <td>60,590,218,022,012.00</td>\n",
       "      <td>0.01</td>\n",
       "      <td>2017-01-01</td>\n",
       "      <td>Single Family Residential</td>\n",
       "    </tr>\n",
       "    <tr>\n",
       "      <th>3</th>\n",
       "      <td>12177905</td>\n",
       "      <td>3.00</td>\n",
       "      <td>4.00</td>\n",
       "      <td>3.00</td>\n",
       "      <td>2,376.00</td>\n",
       "      <td>2,376.00</td>\n",
       "      <td>6,037.00</td>\n",
       "      <td>3.00</td>\n",
       "      <td>34,245,180.00</td>\n",
       "      <td>-118,240,722.00</td>\n",
       "      <td>...</td>\n",
       "      <td>1,970.00</td>\n",
       "      <td>108,918.00</td>\n",
       "      <td>145,143.00</td>\n",
       "      <td>2,016.00</td>\n",
       "      <td>36,225.00</td>\n",
       "      <td>1,777.51</td>\n",
       "      <td>60,373,001,001,006.00</td>\n",
       "      <td>-0.10</td>\n",
       "      <td>2017-01-01</td>\n",
       "      <td>Single Family Residential</td>\n",
       "    </tr>\n",
       "    <tr>\n",
       "      <th>4</th>\n",
       "      <td>12095076</td>\n",
       "      <td>3.00</td>\n",
       "      <td>4.00</td>\n",
       "      <td>3.00</td>\n",
       "      <td>2,962.00</td>\n",
       "      <td>2,962.00</td>\n",
       "      <td>6,037.00</td>\n",
       "      <td>3.00</td>\n",
       "      <td>34,145,202.00</td>\n",
       "      <td>-118,179,824.00</td>\n",
       "      <td>...</td>\n",
       "      <td>1,950.00</td>\n",
       "      <td>276,684.00</td>\n",
       "      <td>773,303.00</td>\n",
       "      <td>2,016.00</td>\n",
       "      <td>496,619.00</td>\n",
       "      <td>9,516.26</td>\n",
       "      <td>60,374,608,001,014.00</td>\n",
       "      <td>-0.00</td>\n",
       "      <td>2017-01-01</td>\n",
       "      <td>Single Family Residential</td>\n",
       "    </tr>\n",
       "  </tbody>\n",
       "</table>\n",
       "<p>5 rows × 28 columns</p>\n",
       "</div>"
      ],
      "text/plain": [
       "   parcelid          bathroomcnt           bedroomcnt    calculatedbathnbr  \\\n",
       "0  14297519                 3.50                 4.00                 3.50   \n",
       "1  17052889                 1.00                 2.00                 1.00   \n",
       "2  14186244                 2.00                 3.00                 2.00   \n",
       "3  12177905                 3.00                 4.00                 3.00   \n",
       "4  12095076                 3.00                 4.00                 3.00   \n",
       "\n",
       "   calculatedfinishedsquarefeet  finishedsquarefeet12                 fips  \\\n",
       "0                      3,100.00              3,100.00             6,059.00   \n",
       "1                      1,465.00              1,465.00             6,111.00   \n",
       "2                      1,243.00              1,243.00             6,059.00   \n",
       "3                      2,376.00              2,376.00             6,037.00   \n",
       "4                      2,962.00              2,962.00             6,037.00   \n",
       "\n",
       "           fullbathcnt             latitude            longitude  ...  \\\n",
       "0                 3.00        33,634,931.00      -117,869,207.00  ...   \n",
       "1                 1.00        34,449,266.00      -119,281,531.00  ...   \n",
       "2                 2.00        33,886,168.00      -117,823,170.00  ...   \n",
       "3                 3.00        34,245,180.00      -118,240,722.00  ...   \n",
       "4                 3.00        34,145,202.00      -118,179,824.00  ...   \n",
       "\n",
       "             yearbuilt structuretaxvaluedollarcnt    taxvaluedollarcnt  \\\n",
       "0             1,998.00                 485,713.00         1,023,282.00   \n",
       "1             1,967.00                  88,000.00           464,000.00   \n",
       "2             1,962.00                  85,289.00           564,778.00   \n",
       "3             1,970.00                 108,918.00           145,143.00   \n",
       "4             1,950.00                 276,684.00           773,303.00   \n",
       "\n",
       "        assessmentyear  landtaxvaluedollarcnt            taxamount  \\\n",
       "0             2,016.00             537,569.00            11,013.72   \n",
       "1             2,016.00             376,000.00             5,672.48   \n",
       "2             2,016.00             479,489.00             6,488.30   \n",
       "3             2,016.00              36,225.00             1,777.51   \n",
       "4             2,016.00             496,619.00             9,516.26   \n",
       "\n",
       "    censustractandblock             logerror  transactiondate  \\\n",
       "0 60,590,630,072,012.00                 0.03       2017-01-01   \n",
       "1 61,110,010,023,006.00                 0.06       2017-01-01   \n",
       "2 60,590,218,022,012.00                 0.01       2017-01-01   \n",
       "3 60,373,001,001,006.00                -0.10       2017-01-01   \n",
       "4 60,374,608,001,014.00                -0.00       2017-01-01   \n",
       "\n",
       "         propertylandusedesc  \n",
       "0  Single Family Residential  \n",
       "1  Single Family Residential  \n",
       "2  Single Family Residential  \n",
       "3  Single Family Residential  \n",
       "4  Single Family Residential  \n",
       "\n",
       "[5 rows x 28 columns]"
      ]
     },
     "execution_count": 22,
     "metadata": {},
     "output_type": "execute_result"
    }
   ],
   "source": [
    "#Execute my function and visualize the results\n",
    "clean_df = null_dropper(df, 0.75, 0.75)\n",
    "\n",
    "clean_df.head()"
   ]
  },
  {
   "cell_type": "code",
   "execution_count": 23,
   "id": "edba9529",
   "metadata": {},
   "outputs": [
    {
     "data": {
      "text/plain": [
       "(52315, 28)"
      ]
     },
     "execution_count": 23,
     "metadata": {},
     "output_type": "execute_result"
    }
   ],
   "source": [
    "\n",
    "#Check shape of resulting dataframe\n",
    "clean_df.shape"
   ]
  },
  {
   "cell_type": "code",
   "execution_count": 24,
   "id": "392cd040",
   "metadata": {},
   "outputs": [],
   "source": [
    "#Save a copy of the clean csv to my local machine\n",
    "clean_df.to_csv('zillow.csv')"
   ]
  },
  {
   "cell_type": "markdown",
   "id": "c134bf22",
   "metadata": {},
   "source": [
    "### From here, continue in Explore"
   ]
  },
  {
   "cell_type": "code",
   "execution_count": 25,
   "id": "cd117ede",
   "metadata": {},
   "outputs": [
    {
     "name": "stdout",
     "output_type": "stream",
     "text": [
      "train observations:  820288\n",
      "validate observations:  351568\n",
      "test observations:  292964\n"
     ]
    }
   ],
   "source": [
    "# split test off, 20% of original df size. \n",
    "train_validate, test = train_test_split(clean_df, test_size=.2, \n",
    "                                        random_state=42)\n",
    "\n",
    "# split validate off, 30% of what remains (24% of original df size)\n",
    "# thus train will be 56% of original df size. \n",
    "train, validate = train_test_split(train_validate, test_size=.3, \n",
    "                                   random_state=42)\n",
    "\n",
    "print(\"train observations: \", train.size)\n",
    "print(\"validate observations: \", validate.size)\n",
    "print(\"test observations: \", test.size)\n"
   ]
  },
  {
   "cell_type": "markdown",
   "id": "bf2af3c6",
   "metadata": {},
   "source": [
    "#### Explore\n",
    "\n",
    "1. Ask questions.\n",
    "\n",
    "2. Answer questions via visualizations and statistical tests.\n",
    "\n",
    "3. Summarize."
   ]
  },
  {
   "cell_type": "markdown",
   "id": "ea9c4adb",
   "metadata": {},
   "source": [
    "### Target Variable = logerror"
   ]
  },
  {
   "cell_type": "markdown",
   "id": "1260cd1f",
   "metadata": {},
   "source": [
    "#### 1. What is the distribution of each of the variables?"
   ]
  },
  {
   "cell_type": "code",
   "execution_count": 26,
   "id": "6a65d333",
   "metadata": {},
   "outputs": [
    {
     "data": {
      "image/png": "[encoded data removed]",
      "text/plain": [
       "<Figure size 288x144 with 1 Axes>"
      ]
     },
     "metadata": {
      "needs_background": "light"
     },
     "output_type": "display_data"
    },
    {
     "data": {
      "image/png": "[encoded data removed]",
      "text/plain": [
       "<Figure size 288x144 with 1 Axes>"
      ]
     },
     "metadata": {
      "needs_background": "light"
     },
     "output_type": "display_data"
    },
    {
     "data": {
      "image/png": "[encoded data removed]",
      "text/plain": [
       "<Figure size 288x144 with 1 Axes>"
      ]
     },
     "metadata": {
      "needs_background": "light"
     },
     "output_type": "display_data"
    },
    {
     "data": {
      "image/png": "[encoded data removed]",
      "text/plain": [
       "<Figure size 288x144 with 1 Axes>"
      ]
     },
     "metadata": {
      "needs_background": "light"
     },
     "output_type": "display_data"
    },
    {
     "data": {
      "image/png": "[encoded data removed]",
      "text/plain": [
       "<Figure size 288x144 with 1 Axes>"
      ]
     },
     "metadata": {
      "needs_background": "light"
     },
     "output_type": "display_data"
    },
    {
     "data": {
      "image/png": "[encoded data removed]",
      "text/plain": [
       "<Figure size 288x144 with 1 Axes>"
      ]
     },
     "metadata": {
      "needs_background": "light"
     },
     "output_type": "display_data"
    },
    {
     "data": {
      "image/png": "[encoded data removed]",
      "text/plain": [
       "<Figure size 288x144 with 1 Axes>"
      ]
     },
     "metadata": {
      "needs_background": "light"
     },
     "output_type": "display_data"
    },
    {
     "data": {
      "image/png": "[encoded data removed]",
      "text/plain": [
       "<Figure size 288x144 with 1 Axes>"
      ]
     },
     "metadata": {
      "needs_background": "light"
     },
     "output_type": "display_data"
    },
    {
     "data": {
      "image/png": "[encoded data removed]",
      "text/plain": [
       "<Figure size 288x144 with 1 Axes>"
      ]
     },
     "metadata": {
      "needs_background": "light"
     },
     "output_type": "display_data"
    },
    {
     "data": {
      "image/png": "[encoded data removed]",
      "text/plain": [
       "<Figure size 288x144 with 1 Axes>"
      ]
     },
     "metadata": {
      "needs_background": "light"
     },
     "output_type": "display_data"
    },
    {
     "data": {
      "image/png": "[encoded data removed]",
      "text/plain": [
       "<Figure size 288x144 with 1 Axes>"
      ]
     },
     "metadata": {
      "needs_background": "light"
     },
     "output_type": "display_data"
    },
    {
     "data": {
      "image/png": "[encoded data removed]",
      "text/plain": [
       "<Figure size 288x144 with 1 Axes>"
      ]
     },
     "metadata": {
      "needs_background": "light"
     },
     "output_type": "display_data"
    },
    {
     "data": {
      "image/png": "[encoded data removed]",
      "text/plain": [
       "<Figure size 288x144 with 1 Axes>"
      ]
     },
     "metadata": {
      "needs_background": "light"
     },
     "output_type": "display_data"
    },
    {
     "data": {
      "image/png": "[encoded data removed]",
      "text/plain": [
       "<Figure size 288x144 with 1 Axes>"
      ]
     },
     "metadata": {
      "needs_background": "light"
     },
     "output_type": "display_data"
    },
    {
     "data": {
      "image/png": "[encoded data removed]",
      "text/plain": [
       "<Figure size 288x144 with 1 Axes>"
      ]
     },
     "metadata": {
      "needs_background": "light"
     },
     "output_type": "display_data"
    },
    {
     "data": {
      "image/png": "[encoded data removed]",
      "text/plain": [
       "<Figure size 288x144 with 1 Axes>"
      ]
     },
     "metadata": {
      "needs_background": "light"
     },
     "output_type": "display_data"
    },
    {
     "data": {
      "image/png": "[encoded data removed]",
      "text/plain": [
       "<Figure size 288x144 with 1 Axes>"
      ]
     },
     "metadata": {
      "needs_background": "light"
     },
     "output_type": "display_data"
    },
    {
     "data": {
      "image/png": "[encoded data removed]",
      "text/plain": [
       "<Figure size 288x144 with 1 Axes>"
      ]
     },
     "metadata": {
      "needs_background": "light"
     },
     "output_type": "display_data"
    },
    {
     "data": {
      "image/png": "[encoded data removed]",
      "text/plain": [
       "<Figure size 288x144 with 1 Axes>"
      ]
     },
     "metadata": {
      "needs_background": "light"
     },
     "output_type": "display_data"
    },
    {
     "data": {
      "image/png": "[encoded data removed]",
      "text/plain": [
       "<Figure size 288x144 with 1 Axes>"
      ]
     },
     "metadata": {
      "needs_background": "light"
     },
     "output_type": "display_data"
    },
    {
     "data": {
      "image/png": "[encoded data removed]",
      "text/plain": [
       "<Figure size 288x144 with 1 Axes>"
      ]
     },
     "metadata": {
      "needs_background": "light"
     },
     "output_type": "display_data"
    },
    {
     "data": {
      "image/png": "[encoded data removed]",
      "text/plain": [
       "<Figure size 288x144 with 1 Axes>"
      ]
     },
     "metadata": {
      "needs_background": "light"
     },
     "output_type": "display_data"
    },
    {
     "data": {
      "image/png": "[encoded data removed]",
      "text/plain": [
       "<Figure size 288x144 with 1 Axes>"
      ]
     },
     "metadata": {
      "needs_background": "light"
     },
     "output_type": "display_data"
    },
    {
     "data": {
      "image/png": "[encoded data removed]",
      "text/plain": [
       "<Figure size 288x144 with 1 Axes>"
      ]
     },
     "metadata": {
      "needs_background": "light"
     },
     "output_type": "display_data"
    },
    {
     "data": {
      "image/png": "[encoded data removed]",
      "text/plain": [
       "<Figure size 288x144 with 1 Axes>"
      ]
     },
     "metadata": {
      "needs_background": "light"
     },
     "output_type": "display_data"
    },
    {
     "data": {
      "image/png": "[encoded data removed]",
      "text/plain": [
       "<Figure size 288x144 with 1 Axes>"
      ]
     },
     "metadata": {
      "needs_background": "light"
     },
     "output_type": "display_data"
    },
    {
     "data": {
      "image/png": "[encoded data removed]",
      "text/plain": [
       "<Figure size 288x144 with 1 Axes>"
      ]
     },
     "metadata": {
      "needs_background": "light"
     },
     "output_type": "display_data"
    },
    {
     "data": {
      "image/png": "[encoded data removed]",
      "text/plain": [
       "<Figure size 288x144 with 1 Axes>"
      ]
     },
     "metadata": {
      "needs_background": "light"
     },
     "output_type": "display_data"
    }
   ],
   "source": [
    "for col in train.columns:\n",
    "    plt.figure(figsize=(4,2))\n",
    "    plt.hist(train[col])\n",
    "    plt.title(col)\n",
    "    plt.show()\n"
   ]
  },
  {
   "cell_type": "markdown",
   "id": "1123bc0e",
   "metadata": {},
   "source": [
    "### Takeaways:\n",
    "- bathroomcnt, bedroomcnt, latitude and normally distributed. Yearbuilt is sort of too.\n",
    "- Claculatedbathnbr, calculatedfinishedsquarefeet, finishedsquarefeet12, fullbathcnt and transactiondate are skewed right. Longitude is slightly skewed left. I will want to use spearman's correlation test when testing the linear relationships due to the skew.\n"
   ]
  },
  {
   "cell_type": "markdown",
   "id": "6008acc9",
   "metadata": {},
   "source": [
    "#### 2. Does logerror differ based on yearbuilt?\n",
    "\n",
    "1. Plot logerror vs. yearbuilt\n",
    "\n",
    "2. 2-sample, 2-tailed t-test comparing the mean year built vs logerror."
   ]
  },
  {
   "cell_type": "code",
   "execution_count": null,
   "id": "6c3dcf0f",
   "metadata": {},
   "outputs": [],
   "source": [
    "sns.boxplot(train.logerror, train.transactiondate)\n",
    "plt.title(\"Does the age of the house affect the logerror?\")\n",
    "plt.show()"
   ]
  },
  {
   "cell_type": "code",
   "execution_count": 29,
   "id": "ea91f3ca",
   "metadata": {},
   "outputs": [
    {
     "name": "stdout",
     "output_type": "stream",
     "text": [
      "Is there a relationship\n",
      "between logerror and yearbuilt?\n"
     ]
    },
    {
     "data": {
      "image/png": "[encoded data removed]",
      "text/plain": [
       "<Figure size 432x432 with 3 Axes>"
      ]
     },
     "metadata": {
      "needs_background": "light"
     },
     "output_type": "display_data"
    }
   ],
   "source": [
    "print(\"Is there a relationship\\nbetween logerror and yearbuilt?\")\n",
    "sns.jointplot(x=\"yearbuilt\", y=\"logerror\", data=train)\n",
    "plt.xlabel(\"Annual Income\")\n",
    "plt.ylabel(\"Spending Score\")\n",
    "plt.show()\n"
   ]
  },
  {
   "cell_type": "markdown",
   "id": "62515369",
   "metadata": {},
   "source": [
    "#### Takeaways:\n",
    "- Logerror increases from the 1940s and on. Consider binning.\n"
   ]
  },
  {
   "cell_type": "markdown",
   "id": "d56125bf",
   "metadata": {},
   "source": [
    "#### 3. Is there a relationship between "
   ]
  },
  {
   "cell_type": "code",
   "execution_count": null,
   "id": "dccab90d",
   "metadata": {},
   "outputs": [],
   "source": []
  },
  {
   "cell_type": "code",
   "execution_count": null,
   "id": "ab15ac09",
   "metadata": {},
   "outputs": [],
   "source": []
  },
  {
   "cell_type": "code",
   "execution_count": null,
   "id": "a37476d6",
   "metadata": {},
   "outputs": [],
   "source": []
  },
  {
   "cell_type": "code",
   "execution_count": null,
   "id": "4e92a40a",
   "metadata": {},
   "outputs": [],
   "source": []
  },
  {
   "cell_type": "code",
   "execution_count": null,
   "id": "0a122e20",
   "metadata": {},
   "outputs": [],
   "source": []
  },
  {
   "cell_type": "code",
   "execution_count": null,
   "id": "ecdb5ea1",
   "metadata": {},
   "outputs": [],
   "source": []
  },
  {
   "cell_type": "markdown",
   "id": "a3b5d1d6",
   "metadata": {},
   "source": [
    "### Mall customers"
   ]
  },
  {
   "cell_type": "markdown",
   "id": "7fc8a720",
   "metadata": {},
   "source": [
    "1. Acquire data from the customers table in the mall_customers database."
   ]
  },
  {
   "cell_type": "code",
   "execution_count": null,
   "id": "a4022281",
   "metadata": {},
   "outputs": [],
   "source": [
    "# from our acquire.py:\n",
    "def get_connection(db, user=env.user, host=env.host, password=env.password):\n",
    "    return f'mysql+pymysql://{user}:{password}@{host}/{db}'\n",
    "    \n",
    "sql_query = query = '''\n",
    "SELECT\n",
    "    *\n",
    "FROM mall_customers\n",
    "'''\n",
    "    \n",
    "def get_mall_customers_data():\n",
    "    df = pd.read_sql(sql_query, get_connection('mall_customers'))\n",
    "    df = df.drop(columns='id')\n",
    "    return df"
   ]
  },
  {
   "cell_type": "code",
   "execution_count": null,
   "id": "746359fc",
   "metadata": {},
   "outputs": [],
   "source": [
    "df.shape"
   ]
  },
  {
   "cell_type": "code",
   "execution_count": null,
   "id": "7b567efc",
   "metadata": {},
   "outputs": [],
   "source": []
  }
 ],
 "metadata": {
  "kernelspec": {
   "display_name": "Python 3 (ipykernel)",
   "language": "python",
   "name": "python3"
  },
  "language_info": {
   "codemirror_mode": {
    "name": "ipython",
    "version": 3
   },
   "file_extension": ".py",
   "mimetype": "text/x-python",
   "name": "python",
   "nbconvert_exporter": "python",
   "pygments_lexer": "ipython3",
   "version": "3.9.12"
  }
 },
 "nbformat": 4,
 "nbformat_minor": 5
}
